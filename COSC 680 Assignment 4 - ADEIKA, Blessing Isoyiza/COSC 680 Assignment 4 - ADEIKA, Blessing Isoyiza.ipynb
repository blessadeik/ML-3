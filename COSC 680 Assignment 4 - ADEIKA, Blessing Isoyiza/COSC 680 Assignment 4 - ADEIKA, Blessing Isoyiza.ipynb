{
 "cells": [
  {
   "cell_type": "markdown",
   "id": "921b8d71",
   "metadata": {},
   "source": [
    "#### Name: ADEIKA, Blessing Isoyiza\n",
    "#### Student ID: 00325967 \n",
    "#### Course: COSC 680 - Image Understanding and Computer Vision(CRN 74798)\n",
    "#### Instructor: Dr. MD Mahmudur Rahman\n",
    "#### Date: 20th of October, 2022"
   ]
  },
  {
   "cell_type": "markdown",
   "id": "e0fd61ec",
   "metadata": {},
   "source": [
    "#### CHAPTER 9 : Thresholding"
   ]
  },
  {
   "cell_type": "code",
   "execution_count": null,
   "id": "01293758",
   "metadata": {},
   "outputs": [],
   "source": [
    "import numpy as np\n",
    "import cv2"
   ]
  },
  {
   "cell_type": "markdown",
   "id": "c3edfe8c",
   "metadata": {},
   "source": [
    "##### Simple Thresholding"
   ]
  },
  {
   "cell_type": "code",
   "execution_count": null,
   "id": "6a9cd5e3",
   "metadata": {
    "scrolled": true
   },
   "outputs": [],
   "source": [
    "# Load Image \n",
    "\n",
    "cell = cv2.imread(\"bloodcell.jpg\")\n",
    "\n",
    "# resize image\n",
    "scale_cell= 50\n",
    "width = int(cell.shape[1]*scale_cell/100)\n",
    "height = int(cell.shape[0]*scale_cell/100)\n",
    "dimension = (width,height)\n",
    "\n",
    "cell = cv2.resize(cell, dimension, interpolation = cv2.INTER_AREA)\n",
    "\n",
    "cell_gray = cv2.cvtColor(cell, cv2.COLOR_BGR2GRAY)\n",
    "# cv2.imshow(\"Grey Cell\", cell_gray)\n",
    "# cv2.waitKey(0)"
   ]
  },
  {
   "cell_type": "code",
   "execution_count": null,
   "id": "56ff1d3f",
   "metadata": {},
   "outputs": [],
   "source": [
    "# GaussianBlur \n",
    "cell_blurred = cv2.GaussianBlur(cell_gray, (5, 5), 0)\n",
    "# cv2.imshow(\"Gaussian Blurred Blood Cell\", cell_blurred)\n",
    "# cv2.waitKey(0)"
   ]
  },
  {
   "cell_type": "code",
   "execution_count": null,
   "id": "9b2b9f6c",
   "metadata": {},
   "outputs": [],
   "source": [
    "(T, cell_thresh) = cv2.threshold(cell_blurred, 155, 255, cv2.THRESH_BINARY)\n",
    "cv2.imshow(\"Threshold Binary of Blood Cell\", cell_thresh)\n",
    "\n",
    "(T, cell_threshInv) = cv2.threshold(cell_blurred, 155, 255, cv2.THRESH_BINARY_INV)\n",
    "cv2.imshow(\"Threshold Binary Inverse on Blood cell\", cell_threshInv)\n",
    "\n",
    "cv2.imshow(\"Cells\", cv2.bitwise_and(cell_gray, cell_gray, mask = cell_threshInv))\n",
    "cv2.waitKey(0)"
   ]
  },
  {
   "cell_type": "markdown",
   "id": "65399d4c",
   "metadata": {},
   "source": [
    "##### Adaptive Thresholding"
   ]
  },
  {
   "cell_type": "code",
   "execution_count": null,
   "id": "b916ca25",
   "metadata": {},
   "outputs": [],
   "source": [
    "cell_adaptthresh = cv2.adaptiveThreshold(cell_blurred, 255, cv2.ADAPTIVE_THRESH_MEAN_C, cv2.THRESH_BINARY_INV, 11, 4)\n",
    "cv2.imshow(\"Mean Thresh\", cell_adaptthresh)\n",
    "\n",
    "cell_adaptthresh = cv2.adaptiveThreshold(cell_blurred, 255, cv2.ADAPTIVE_THRESH_GAUSSIAN_C, cv2.THRESH_BINARY_INV, 15, 3)\n",
    "cv2.imshow(\"Gaussian Thresh\", cell_adaptthresh)\n",
    "cv2.waitKey(0)"
   ]
  },
  {
   "cell_type": "code",
   "execution_count": null,
   "id": "9a2bb78d",
   "metadata": {},
   "outputs": [],
   "source": []
  },
  {
   "cell_type": "markdown",
   "id": "65b3dd4b",
   "metadata": {},
   "source": [
    "##### Otsu and Riddler"
   ]
  },
  {
   "cell_type": "code",
   "execution_count": null,
   "id": "9bab6337",
   "metadata": {},
   "outputs": [],
   "source": [
    "# conda config --add channels conda-forge\n",
    "# conda install mahotas\n",
    "# conda update -n base -c defaults conda"
   ]
  },
  {
   "cell_type": "code",
   "execution_count": null,
   "id": "742b206e",
   "metadata": {},
   "outputs": [],
   "source": [
    "from __future__ import print_function\n",
    "import numpy as np\n",
    "import mahotas\n",
    "import cv2\n"
   ]
  },
  {
   "cell_type": "code",
   "execution_count": null,
   "id": "0656c025",
   "metadata": {},
   "outputs": [],
   "source": [
    "# Load Blood Cell Image\n",
    "cell = cv2.imread(\"bloodcell.jpg\")\n",
    "cell_gray = cv2.cvtColor(cell, cv2.COLOR_BGR2GRAY)\n",
    "\n",
    "# Gaussian Blurr on Image\n",
    "cell_otsublurred = cv2.GaussianBlur(cell_gray, (5, 5), 0)\n",
    "cv2.imshow(\"Blood Cell\", cell)\n",
    "\n",
    "# Otsu thressholding on Blurred Blood Cell Image\n",
    "T = mahotas.thresholding.otsu(cell_otsublurred)\n",
    "print(\"Otsu’s threshold: {}\".format(T))\n",
    "cell_thresh = cell.copy()\n",
    "cell_thresh[cell_thresh > T] = 255\n",
    "cell_thresh[cell_thresh < 255] = 0\n",
    "cell_thresh = cv2.bitwise_not(cell_thresh)\n",
    "cv2.imshow(\"Otsu\", cell_thresh)\n",
    "\n",
    "# Riddler-Calvard on Blurred Blood Cell Image\n",
    "T = mahotas.thresholding.rc(cell_otsublurred)\n",
    "print(\"Riddler-Calvard: {}\".format(T))\n",
    "\n",
    "cell_thresh = cell_gray.copy()\n",
    "cell_thresh[cell_thresh > T] = 255\n",
    "cell_thresh[cell_thresh < 255] = 0\n",
    "cell_thresh = cv2.bitwise_not(cell_thresh)\n",
    "cv2.imshow(\"Riddler-Calvard\", cell_thresh)\n",
    "cv2.waitKey(0)\n"
   ]
  },
  {
   "cell_type": "markdown",
   "id": "655fe41d",
   "metadata": {},
   "source": [
    "#### CHAPTER 10: Gradient and Edge Detection"
   ]
  },
  {
   "cell_type": "code",
   "execution_count": null,
   "id": "aa87b813",
   "metadata": {},
   "outputs": [],
   "source": [
    "import numpy as np\n",
    "import cv2"
   ]
  },
  {
   "cell_type": "code",
   "execution_count": null,
   "id": "0e7925cf",
   "metadata": {},
   "outputs": [],
   "source": [
    "bloodcell = cv2.imread(\"bloodcell.jpg\")\n",
    "\n",
    "# Resize Blood Cell image\n",
    "scale_bloodcell= 50\n",
    "width = int(bloodcell.shape[1]*scale_bloodcell/100)\n",
    "height = int(bloodcell.shape[0]*scale_bloodcell/100)\n",
    "dimension = (width,height)\n",
    "\n",
    "bloodcell = cv2.resize(bloodcell, dimension, interpolation = cv2.INTER_AREA)\n",
    "\n",
    "bloodcell_gray = cv2.cvtColor(bloodcell, cv2.COLOR_BGR2GRAY)\n",
    "cv2.imshow(\"Original Blood Image\", bloodcell_gray)\n",
    "cv2.waitKey(0)"
   ]
  },
  {
   "cell_type": "markdown",
   "id": "0d72a21a",
   "metadata": {},
   "source": [
    "#### Perform Laplacian on the image"
   ]
  },
  {
   "cell_type": "code",
   "execution_count": null,
   "id": "98cbeed7",
   "metadata": {},
   "outputs": [],
   "source": [
    "cell_lap = cv2.Laplacian(bloodcell_gray, cv2.CV_64F)\n",
    "cell_lap = np.uint8(np.absolute(cell_lap))\n",
    "cv2.imshow(\"Laplacian on Blood Cell Image\", cell_lap)\n",
    "cv2.waitKey(0)"
   ]
  },
  {
   "cell_type": "markdown",
   "id": "62e39653",
   "metadata": {},
   "source": [
    "#### Perform Sobel on the image"
   ]
  },
  {
   "cell_type": "code",
   "execution_count": null,
   "id": "0a40111c",
   "metadata": {},
   "outputs": [],
   "source": [
    "sobelX = cv2.Sobel(bloodcell_gray, cv2.CV_64F, 1, 0)\n",
    "sobelY = cv2.Sobel(bloodcell_gray, cv2.CV_64F, 0, 1)\n",
    "\n",
    "sobelX = np.uint8(np.absolute(sobelX))\n",
    "sobelY = np.uint8(np.absolute(sobelY))\n",
    "\n",
    "sobelCombined = cv2.bitwise_or(sobelX, sobelY)\n",
    "\n",
    "cv2.imshow(\"Sobel X\", sobelX)\n",
    "cv2.imshow(\"Sobel Y\", sobelY)\n",
    "cv2.imshow(\"Sobel Combined Blood Cell Image\", sobelCombined)\n",
    "cv2.waitKey(0)\n"
   ]
  },
  {
   "cell_type": "markdown",
   "id": "f010eb29",
   "metadata": {},
   "source": [
    "#### Perform Canny Edge Detection on Image"
   ]
  },
  {
   "cell_type": "code",
   "execution_count": null,
   "id": "652c183b",
   "metadata": {},
   "outputs": [],
   "source": [
    "cell_Gass = cv2.GaussianBlur(bloodcell_gray, (5, 5), 0)\n",
    "cv2.imshow(\"Blurred\", cell_Gass)\n",
    "\n",
    "cell_unsharp = cv2.addWeighted(bloodcell_gray, 2, cell_Gass, -1, 0)\n",
    "\n",
    "cell_canny = cv2.Canny(cell_unsharp, 30, 150)\n",
    "cv2.imshow(\"Canny\", cell_canny)\n",
    "cv2.waitKey(0)"
   ]
  },
  {
   "cell_type": "markdown",
   "id": "c77b192e",
   "metadata": {},
   "source": [
    "#### CHAPTER 11: Contours"
   ]
  },
  {
   "cell_type": "code",
   "execution_count": null,
   "id": "5bc8f87f",
   "metadata": {},
   "outputs": [],
   "source": [
    "from __future__ import print_function\n",
    "import numpy as np\n",
    "import cv2"
   ]
  },
  {
   "cell_type": "code",
   "execution_count": null,
   "id": "5ea99244",
   "metadata": {},
   "outputs": [],
   "source": [
    "bloodcells = cv2.imread(\"bloodcell.jpg\")\n",
    "\n",
    "# Resize Blood Cell image\n",
    "scale_bloodcells= 50\n",
    "width = int(bloodcells.shape[1]*scale_bloodcells/100)\n",
    "height = int(bloodcells.shape[0]*scale_bloodcells/100)\n",
    "dimension = (width,height)\n",
    "\n",
    "bloodcells = cv2.resize(bloodcells, dimension, interpolation = cv2.INTER_AREA)\n",
    "\n",
    "gray_bloodcells = cv2.cvtColor(bloodcells, cv2.COLOR_BGR2GRAY)\n",
    "blurred_cells = cv2.GaussianBlur(gray_bloodcells, (11, 11), 0)\n",
    "cv2.imshow(\"Blurred Cells\", blurred_cells)\n",
    "cv2.waitKey(0)"
   ]
  },
  {
   "cell_type": "markdown",
   "id": "64d112e4",
   "metadata": {},
   "source": [
    "#### Perform canny edge detection "
   ]
  },
  {
   "cell_type": "code",
   "execution_count": null,
   "id": "b27e5258",
   "metadata": {},
   "outputs": [],
   "source": [
    "# Perform unsharp\n",
    "cell_unsharp = cv2.addWeighted(gray_bloodcells, 2, blurred_cells, -1, 0)\n",
    "\n",
    "# canny edge detection\n",
    "edged_cells = cv2.Canny(cell_unsharp, 30, 150)\n",
    "cv2.imshow(\"Canny Edge Detection\", edged_cells)\n",
    "cv2.waitKey(0)"
   ]
  },
  {
   "cell_type": "markdown",
   "id": "68c59813",
   "metadata": {},
   "source": [
    "#### c) Try to count the number of cells in the image (like counting coins) by following the codes in Chap 11. "
   ]
  },
  {
   "cell_type": "code",
   "execution_count": null,
   "id": "385e7baf",
   "metadata": {},
   "outputs": [],
   "source": [
    "# Counting the number of cells in the image\n",
    "(cnts, _) = cv2.findContours(edged_cells.copy(), cv2.RETR_EXTERNAL,\n",
    "cv2.CHAIN_APPROX_SIMPLE)\n",
    "\n",
    "print(\"There are {} Cells in this image\".format(len(cnts)))\n",
    "\n",
    "each_cell = gray_bloodcells.copy()\n",
    "cv2.drawContours(each_cell, cnts, -1, (0, 255, 0), 2)\n",
    "cv2.imshow(\"Each cells\", each_cell)\n",
    "cv2.waitKey(0)"
   ]
  },
  {
   "cell_type": "code",
   "execution_count": null,
   "id": "9fa77c7b",
   "metadata": {},
   "outputs": [],
   "source": [
    "for (i, c) in enumerate(cnts):\n",
    " (x, y, w, h) = cv2.boundingRect(c)\n",
    "\n",
    "print(\"Each Cells #{}\".format(i + 1))\n",
    "each_cell = gray_bloodcells[y:y + h, x:x + w]\n",
    "cv2.imshow(\"Each Cells\", each_cell)\n",
    "cv2.waitKey(0)"
   ]
  },
  {
   "cell_type": "code",
   "execution_count": null,
   "id": "cfbcc1ef",
   "metadata": {},
   "outputs": [],
   "source": [
    "mask = np.zeros(each_cell.shape[:2], dtype = \"uint8\")\n",
    "\n",
    "((centerX, centerY), radius) = cv2.minEnclosingCircle(c)\n",
    "cv2.circle(mask, (int(centerX), int(centerY)), int(radius),\n",
    "255, -1)\n",
    "mask = mask[y:y + h, x:x + w]\n",
    "cv2.imshow(\"Masked Blood Cells\", cv2.bitwise_and(each_cell, each_cell, mask = mask))\n",
    "cv2.waitKey(0)"
   ]
  },
  {
   "cell_type": "code",
   "execution_count": null,
   "id": "adef9e2f",
   "metadata": {},
   "outputs": [],
   "source": []
  }
 ],
 "metadata": {
  "kernelspec": {
   "display_name": "Python 3 (ipykernel)",
   "language": "python",
   "name": "python3"
  },
  "language_info": {
   "codemirror_mode": {
    "name": "ipython",
    "version": 3
   },
   "file_extension": ".py",
   "mimetype": "text/x-python",
   "name": "python",
   "nbconvert_exporter": "python",
   "pygments_lexer": "ipython3",
   "version": "3.9.12"
  }
 },
 "nbformat": 4,
 "nbformat_minor": 5
}
